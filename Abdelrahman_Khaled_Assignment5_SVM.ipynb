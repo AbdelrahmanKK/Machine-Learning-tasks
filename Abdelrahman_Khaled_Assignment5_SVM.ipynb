{
 "cells": [
  {
   "cell_type": "markdown",
   "id": "a39de45c-e2ce-4852-9494-f21bb9f9beb7",
   "metadata": {},
   "source": [
    "# Assignment_3 SVM"
   ]
  },
  {
   "cell_type": "code",
   "execution_count": 154,
   "id": "643e7732-dd96-47df-854f-007ec5d5e10c",
   "metadata": {},
   "outputs": [],
   "source": [
    "import numpy as np\n",
    "from matplotlib.colors import ListedColormap\n",
    "import matplotlib.pyplot as plt\n",
    "from sklearn.svm import SVC\n"
   ]
  },
  {
   "cell_type": "markdown",
   "id": "24b0cbf7-010c-4f1e-96e5-73d79e99a007",
   "metadata": {
    "tags": []
   },
   "source": [
    "# Part 2: SVM"
   ]
  },
  {
   "cell_type": "markdown",
   "id": "ce7b0851-a39c-4b17-99f6-a0d404a2577e",
   "metadata": {},
   "source": [
    "### Use the following function to plot the classification regions"
   ]
  },
  {
   "cell_type": "code",
   "execution_count": 155,
   "id": "8b776233-2fdd-4034-9c72-688869cdedc1",
   "metadata": {},
   "outputs": [],
   "source": [
    "def plot_class_regions_for_classifier(clf, X, y, X_test=None, y_test=None, title=None, target_names = None, plot_decision_regions = True):\n",
    "\n",
    "    numClasses = np.amax(y) + 1\n",
    "    color_list_light = ['#FFFFAA', '#EFEFEF', '#AAFFAA', '#AAAAFF']\n",
    "    color_list_bold = ['#EEEE00', '#000000', '#00CC00', '#0000CC']\n",
    "    cmap_light = ListedColormap(color_list_light[0:numClasses])\n",
    "    cmap_bold  = ListedColormap(color_list_bold[0:numClasses])\n",
    "\n",
    "    h = 0.03\n",
    "    k = 0.5\n",
    "    x_plot_adjust = 0.1\n",
    "    y_plot_adjust = 0.1\n",
    "    plot_symbol_size = 50\n",
    "\n",
    "    x_min = X[:, 0].min()\n",
    "    x_max = X[:, 0].max()\n",
    "    y_min = X[:, 1].min()\n",
    "    y_max = X[:, 1].max()\n",
    "    x2, y2 = np.meshgrid(np.arange(x_min-k, x_max+k, h), np.arange(y_min-k, y_max+k, h))\n",
    "    # np.c_ Translates slice objects to concatenation along the second axis\n",
    "    # e.g. np.c_[np.array([[1,2,3]]), 0, 0, np.array([[4,5,6]])]\n",
    "    # ravel() Returns a contiguous flattened array.\n",
    "    # x = np.array([[1, 2, 3], [4, 5, 6]])\n",
    "    # np.ravel(x) = [1 2 3 4 5 6]\n",
    "    P = clf.predict(np.c_[x2.ravel(), y2.ravel()])\n",
    "    P = P.reshape(x2.shape)\n",
    "    plt.figure()\n",
    "    if plot_decision_regions:\n",
    "        plt.contourf(x2, y2, P, cmap=cmap_light, alpha = 0.8)\n",
    "\n",
    "    plt.scatter(X[:, 0], X[:, 1], c=y, cmap=cmap_bold, s=plot_symbol_size, edgecolor = 'black')\n",
    "    plt.xlim(x_min - x_plot_adjust, x_max + x_plot_adjust)\n",
    "    plt.ylim(y_min - y_plot_adjust, y_max + y_plot_adjust)\n",
    "\n",
    "    if (X_test is not None):\n",
    "        plt.scatter(X_test[:, 0], X_test[:, 1], c=y_test, cmap=cmap_bold, s=plot_symbol_size, marker='^', edgecolor = 'black')\n",
    "        train_score = clf.score(X, y)\n",
    "        test_score  = clf.score(X_test, y_test)\n",
    "        title = title + \"\\nTrain score = {:.2f}, Test score = {:.2f}\".format(train_score, test_score)\n",
    "\n",
    "    if (target_names is not None):\n",
    "        legend_handles = []\n",
    "        for i in range(0, len(target_names)):\n",
    "            patch = mpatches.Patch(color=color_list_bold[i], label=target_names[i])\n",
    "            legend_handles.append(patch)\n",
    "        plt.legend(loc=0, handles=legend_handles)\n",
    "\n",
    "    if (title is not None):\n",
    "        plt.title(title)\n",
    "    plt.show()"
   ]
  },
  {
   "cell_type": "markdown",
   "id": "164ced46-3aab-4bb3-8be1-ce62dfbd841d",
   "metadata": {},
   "source": [
    "### Use the following dataset in questions 1, 2, and 3."
   ]
  },
  {
   "cell_type": "code",
   "execution_count": 156,
   "id": "99970010-3f35-42b7-8ae5-39e0b905db3e",
   "metadata": {},
   "outputs": [],
   "source": [
    "from sklearn.datasets import make_classification\n",
    "\n",
    "X, y = make_classification(n_samples = 100, n_features=2,\n",
    "                                n_redundant=0, n_informative=2,\n",
    "                                n_clusters_per_class=1, flip_y = 0.1,\n",
    "                                class_sep = 0.5, random_state=0)"
   ]
  },
  {
   "cell_type": "markdown",
   "id": "c4ec298b-d4af-467f-8379-cad0c7704fbf",
   "metadata": {},
   "source": [
    "#### Question 1\n",
    "Split the data into training and testing datasets (use random_state=0 and 25% of the data for testing)"
   ]
  },
  {
   "cell_type": "code",
   "execution_count": 157,
   "id": "70a204f4-9316-4b45-8ccd-18614a4fd61c",
   "metadata": {},
   "outputs": [],
   "source": [
    "from sklearn.model_selection import train_test_split\n",
    "X_train, X_test, y_train, y_test = train_test_split(X, y, test_size=0.25, random_state=0)"
   ]
  },
  {
   "cell_type": "markdown",
   "id": "ef0f7835-a714-4bfc-92ed-6eab6a6e24f0",
   "metadata": {},
   "source": [
    "#### Question 2\n",
    "1. Train an SVM classifier using linear kernel.\n",
    "2. Plot the classification regions using the training dataset."
   ]
  },
  {
   "cell_type": "code",
   "execution_count": 158,
   "id": "82b7faaf-35fa-4993-aedd-9cd083657726",
   "metadata": {},
   "outputs": [
    {
     "data": {
      "image/png": "[encoded data removed]",
      "text/plain": [
       "<Figure size 432x288 with 1 Axes>"
      ]
     },
     "metadata": {
      "needs_background": "light"
     },
     "output_type": "display_data"
    }
   ],
   "source": [
    "from sklearn import svm\n",
    "lin_clf = svm.SVC(kernel='linear')\n",
    "\n",
    "lin_clf.fit(X_train, y_train)\n",
    "plot_class_regions_for_classifier(lin_clf, X, y, X_test=None, y_test=None, title=None, target_names = None, plot_decision_regions = True)"
   ]
  },
  {
   "cell_type": "markdown",
   "id": "498f2792-e6fb-46dc-b914-ef6cfe161f17",
   "metadata": {},
   "source": [
    "#### Question 3\n",
    "1. Train an SVM classifier using linear kernel with C=0.00001.\n",
    "2. Train another SVM classifier using linear kernel with C=100\n",
    "3. Plot the classification regions for both cases using the training dataset.\n",
    "4. Comment on the results."
   ]
  },
  {
   "cell_type": "code",
   "execution_count": 159,
   "id": "8a31a9d1-90e2-484e-981b-6e103bb3bfe3",
   "metadata": {},
   "outputs": [
    {
     "data": {
      "image/png": "[encoded data removed]",
      "text/plain": [
       "<Figure size 432x288 with 1 Axes>"
      ]
     },
     "metadata": {
      "needs_background": "light"
     },
     "output_type": "display_data"
    },
    {
     "data": {
      "image/png": "[encoded data removed]",
      "text/plain": [
       "<Figure size 432x288 with 1 Axes>"
      ]
     },
     "metadata": {
      "needs_background": "light"
     },
     "output_type": "display_data"
    }
   ],
   "source": [
    "clf_littleC =svm.SVC(C=0.00001,kernel='linear')\n",
    "clf_bigC    =svm.SVC(C=100,kernel='linear')\n",
    "clf_littleC.fit(X_train, y_train)\n",
    "clf_bigC.fit(X_train, y_train)\n",
    "plot_class_regions_for_classifier(clf_littleC, X, y, X_test=None, y_test=None, title=None, target_names = None, plot_decision_regions = True)\n",
    "plot_class_regions_for_classifier(clf_bigC, X, y, X_test=None, y_test=None, title=None, target_names = None, plot_decision_regions = True)\n"
   ]
  },
  {
   "cell_type": "markdown",
   "id": "18f192d4",
   "metadata": {},
   "source": [
    "no boundries when C was small"
   ]
  },
  {
   "cell_type": "markdown",
   "id": "aa143670-7f09-474b-b10f-6b22e735a026",
   "metadata": {},
   "source": [
    "### Use the fruits dataset in questions 4, 5, 6."
   ]
  },
  {
   "cell_type": "code",
   "execution_count": 160,
   "id": "78a7c63d-c3e4-4d70-b5d5-d25685bc9099",
   "metadata": {},
   "outputs": [
    {
     "data": {
      "text/html": [
       "<div>\n",
       "<style scoped>\n",
       "    .dataframe tbody tr th:only-of-type {\n",
       "        vertical-align: middle;\n",
       "    }\n",
       "\n",
       "    .dataframe tbody tr th {\n",
       "        vertical-align: top;\n",
       "    }\n",
       "\n",
       "    .dataframe thead th {\n",
       "        text-align: right;\n",
       "    }\n",
       "</style>\n",
       "<table border=\"1\" class=\"dataframe\">\n",
       "  <thead>\n",
       "    <tr style=\"text-align: right;\">\n",
       "      <th></th>\n",
       "      <th>fruit_label</th>\n",
       "      <th>fruit_name</th>\n",
       "      <th>fruit_subtype</th>\n",
       "      <th>mass</th>\n",
       "      <th>width</th>\n",
       "      <th>height</th>\n",
       "      <th>color_score</th>\n",
       "    </tr>\n",
       "  </thead>\n",
       "  <tbody>\n",
       "    <tr>\n",
       "      <th>0</th>\n",
       "      <td>1</td>\n",
       "      <td>apple</td>\n",
       "      <td>granny_smith</td>\n",
       "      <td>192</td>\n",
       "      <td>8.4</td>\n",
       "      <td>7.3</td>\n",
       "      <td>0.55</td>\n",
       "    </tr>\n",
       "    <tr>\n",
       "      <th>1</th>\n",
       "      <td>1</td>\n",
       "      <td>apple</td>\n",
       "      <td>granny_smith</td>\n",
       "      <td>180</td>\n",
       "      <td>8.0</td>\n",
       "      <td>6.8</td>\n",
       "      <td>0.59</td>\n",
       "    </tr>\n",
       "    <tr>\n",
       "      <th>2</th>\n",
       "      <td>1</td>\n",
       "      <td>apple</td>\n",
       "      <td>granny_smith</td>\n",
       "      <td>176</td>\n",
       "      <td>7.4</td>\n",
       "      <td>7.2</td>\n",
       "      <td>0.60</td>\n",
       "    </tr>\n",
       "    <tr>\n",
       "      <th>3</th>\n",
       "      <td>2</td>\n",
       "      <td>mandarin</td>\n",
       "      <td>mandarin</td>\n",
       "      <td>86</td>\n",
       "      <td>6.2</td>\n",
       "      <td>4.7</td>\n",
       "      <td>0.80</td>\n",
       "    </tr>\n",
       "    <tr>\n",
       "      <th>4</th>\n",
       "      <td>2</td>\n",
       "      <td>mandarin</td>\n",
       "      <td>mandarin</td>\n",
       "      <td>84</td>\n",
       "      <td>6.0</td>\n",
       "      <td>4.6</td>\n",
       "      <td>0.79</td>\n",
       "    </tr>\n",
       "  </tbody>\n",
       "</table>\n",
       "</div>"
      ],
      "text/plain": [
       "   fruit_label fruit_name fruit_subtype  mass  width  height  color_score\n",
       "0            1      apple  granny_smith   192    8.4     7.3         0.55\n",
       "1            1      apple  granny_smith   180    8.0     6.8         0.59\n",
       "2            1      apple  granny_smith   176    7.4     7.2         0.60\n",
       "3            2   mandarin      mandarin    86    6.2     4.7         0.80\n",
       "4            2   mandarin      mandarin    84    6.0     4.6         0.79"
      ]
     },
     "execution_count": 160,
     "metadata": {},
     "output_type": "execute_result"
    }
   ],
   "source": [
    "import pandas as pd\n",
    "feature_names_fruits = ['height', 'width', 'mass', 'color_score']\n",
    "fruits = pd.read_table('fruit_data_with_colors.txt')\n",
    "fruits.head()"
   ]
  },
  {
   "cell_type": "markdown",
   "id": "66352dde-4078-44ab-8887-83f5692e27bb",
   "metadata": {},
   "source": [
    "#### Question 4\n",
    "1. Split the data by columns into X_fruits and y_fruits where X_fruits is the data records and y_fruits is the labels.\n",
    "2. Using only the **'height'** and **'width'** features, split the data into training and testing using random_state=0, and 25% of the data for testing.\n",
    "3. Using **sklearn LinearSVC**, train a linear svm"
   ]
  },
  {
   "cell_type": "code",
   "execution_count": 161,
   "id": "5dd1699a-1da6-4824-8fda-ec8ab5ee888d",
   "metadata": {},
   "outputs": [
    {
     "data": {
      "text/plain": [
       "SVC(kernel='linear')"
      ]
     },
     "execution_count": 161,
     "metadata": {},
     "output_type": "execute_result"
    }
   ],
   "source": [
    "y_fruits=fruits['fruit_label']\n",
    "X_fruits=fruits.drop('fruit_label',axis = 1) \n",
    "\n",
    "X_fruits=X_fruits.loc[:, ['height','width']]\n",
    "X_train, X_test, y_train, y_test = train_test_split(X_fruits, y_fruits, test_size=0.25, random_state=0)\n",
    "lin_clf = SVC(kernel = 'linear')\n",
    "lin_clf.fit(X_train, y_train)\n",
    "\n"
   ]
  },
  {
   "cell_type": "markdown",
   "id": "a611f9a5-9b50-4254-9758-b345c0a8b004",
   "metadata": {},
   "source": [
    "#### Question 5\n",
    "For the previous model from question 4. \n",
    "1. How many SVM models have been trained? and Why?\n",
    "2. Print the models' coefficients and intercepts."
   ]
  },
  {
   "cell_type": "markdown",
   "id": "a570c2fd-da23-45a9-991e-0cbaaf42a408",
   "metadata": {},
   "source": [
    "## answer\n",
    "4 models , because we have 4 classes "
   ]
  },
  {
   "cell_type": "code",
   "execution_count": 162,
   "id": "9eaa23c3",
   "metadata": {},
   "outputs": [
    {
     "name": "stdout",
     "output_type": "stream",
     "text": [
      "w =  [[ 0.74999906  0.24999969]\n",
      " [-1.0247669   0.17846357]\n",
      " [-1.10094816  1.55993033]\n",
      " [-0.73131977 -0.31796512]\n",
      " [-0.71065935  0.05076138]\n",
      " [-1.13258578  1.89213469]]\n",
      "b =  [-6.07499311  7.02661228 -2.10267889  6.40858653  4.02537775 -3.82649862]\n"
     ]
    }
   ],
   "source": [
    "print('w = ',lin_clf.coef_)\n",
    "print('b = ',lin_clf.intercept_)"
   ]
  },
  {
   "cell_type": "markdown",
   "id": "38e23755-67ec-4206-82f8-510af6afb99a",
   "metadata": {},
   "source": [
    "#### Question 6\n",
    "Plot the classification boundary of each svm on a scatter plot of the training data."
   ]
  },
  {
   "cell_type": "code",
   "execution_count": 163,
   "id": "739782a7-14f3-4abb-ac5d-ae37e72338f8",
   "metadata": {},
   "outputs": [
    {
     "name": "stderr",
     "output_type": "stream",
     "text": [
      "/Library/Frameworks/Python.framework/Versions/3.10/lib/python3.10/site-packages/sklearn/base.py:450: UserWarning: X does not have valid feature names, but SVC was fitted with feature names\n",
      "  warnings.warn(\n"
     ]
    },
    {
     "data": {
      "image/png": "[encoded data removed]",
      "text/plain": [
       "<Figure size 432x288 with 1 Axes>"
      ]
     },
     "metadata": {
      "needs_background": "light"
     },
     "output_type": "display_data"
    }
   ],
   "source": [
    "plot_class_regions_for_classifier(lin_clf,X_fruits.to_numpy(), y_fruits.to_numpy(), X_test=None, y_test=None, title=None, target_names = None, plot_decision_regions = True)\n"
   ]
  },
  {
   "cell_type": "markdown",
   "id": "2e11ad7d-6ae9-46b2-b788-ed90ea00dcfb",
   "metadata": {},
   "source": [
    "from sklearn.datasets import load_breast_cancer\n",
    "(X_cancer, y_cancer) = load_breast_cancer(return_X_y = True)### Use the breast cancer dataset in question 7, 8, and9."
   ]
  },
  {
   "cell_type": "code",
   "execution_count": 164,
   "id": "de479d67-6c2c-4be0-9526-83fe840138c4",
   "metadata": {},
   "outputs": [],
   "source": [
    "from sklearn.datasets import load_breast_cancer\n",
    "(X_cancer, y_cancer) = load_breast_cancer(return_X_y = True)"
   ]
  },
  {
   "cell_type": "markdown",
   "id": "19edd997-56a1-4a8d-bbc8-5d53a8aa3a1a",
   "metadata": {},
   "source": [
    "#### Question 7\n",
    "1. Split the dataset into training and testing datasets, use random_state = 0, and 25% of the data for testing.\n",
    "2. Use GridSearchCV to find the best C value for and SVM classifier with rbf kernel and print the best C value. *use:*  \n",
    "```python\n",
    "parameters = {'kernel' : ('poly', 'rbf'), 'C':[0.01, 0.1, 0.5, 1, 10]}\n",
    "```\n",
    "3. Print the best parameters resulted from your grid search."
   ]
  },
  {
   "cell_type": "code",
   "execution_count": 165,
   "id": "13a88e01-c565-4a50-b213-d749f596847e",
   "metadata": {},
   "outputs": [
    {
     "name": "stdout",
     "output_type": "stream",
     "text": [
      "{'C': 10, 'kernel': 'rbf'}\n"
     ]
    }
   ],
   "source": [
    "from sklearn.model_selection import GridSearchCV\n",
    "X_train, X_test, y_train, y_test = train_test_split(X_cancer, y_cancer, test_size=0.25, random_state=0)\n",
    "parameters = {'kernel' : ('poly', 'rbf'), 'C':[0.01, 0.1, 0.5, 1, 10]}\n",
    "\n",
    "from sklearn.model_selection import GridSearchCV\n",
    "\n",
    "lin_clf = SVC()\n",
    "tuning_model=GridSearchCV(lin_clf,parameters)\n",
    "tuning_model.fit(X_train, y_train)\n",
    "print(tuning_model.best_params_)\n"
   ]
  },
  {
   "cell_type": "markdown",
   "id": "0b0a89ca-c6a7-4ee2-8816-f548f3d1c370",
   "metadata": {},
   "source": [
    "#### Question 8\n",
    "Train an SVM model using the best parameters resulted from question 7, then calculate and print the training and testing accuracy."
   ]
  },
  {
   "cell_type": "code",
   "execution_count": 166,
   "id": "01cff031-bb89-4312-a4e4-625d75c7063d",
   "metadata": {},
   "outputs": [
    {
     "name": "stdout",
     "output_type": "stream",
     "text": [
      "0.9370629370629371\n",
      "0.9154929577464789\n"
     ]
    }
   ],
   "source": [
    "tuned_hyper_model= SVC(C=10,kernel='rbf')\n",
    "tuned_hyper_model.fit(X_train,y_train)\n",
    "print(tuned_hyper_model.score(X_test,y_test))\n",
    "print(tuned_hyper_model.score(X_train,y_train))"
   ]
  },
  {
   "cell_type": "markdown",
   "id": "04675165-358e-4881-b04c-448f78830b38",
   "metadata": {},
   "source": [
    "#### Question 9\n",
    "Improve the previous results from question 8.\n",
    "\n",
    "**Hint:** Don't change the model, instead, make some preprocessing on the data."
   ]
  },
  {
   "cell_type": "code",
   "execution_count": 167,
   "id": "7a6cacbc-c961-4b06-b2ae-31bf5e4636b0",
   "metadata": {},
   "outputs": [
    {
     "name": "stdout",
     "output_type": "stream",
     "text": [
      "Before PCA, X dataframe shape =  (569, 30) \n",
      "After PCA, x_pca dataframe shape =  (569, 11)\n",
      "0.9859154929577465\n",
      "0.986013986013986\n"
     ]
    }
   ],
   "source": [
    "import pandas as pd\n",
    "import numpy as np\n",
    "\n",
    "#for PCA (feature engineering)\n",
    "from sklearn.decomposition import PCA\n",
    "\n",
    "from sklearn.preprocessing import StandardScaler\n",
    "\n",
    "from sklearn.model_selection import train_test_split\n",
    "\n",
    "from sklearn.svm import SVC\n",
    "\n",
    "\n",
    "df = load_breast_cancer(as_frame=True)\n",
    "df=df.frame\n",
    "X = df.iloc[:,0:30]\n",
    "y = df.target\n",
    "\n",
    "\n",
    "#reducing the attributes in X dataframe\n",
    "\n",
    "#1 scale the data\n",
    "scaler = StandardScaler()\n",
    "X_scaled = scaler.fit_transform(X)\n",
    "\n",
    "#2 drop the highly correlated columns which are not useful i.e., area, perimeter, perimeter_worst, area_worst, perimeter_se, area_se \n",
    "X_scaled = pd.DataFrame(X_scaled)\n",
    "X_scaled_drop = X_scaled.drop(X_scaled.columns[[2, 3, 12, 13, 22, 23]], axis=1)\n",
    "\n",
    "#3 apply PCA on scaled data\n",
    "pca = PCA(n_components=0.95)\n",
    "x_pca = pca.fit_transform(X_scaled_drop)\n",
    "x_pca = pd.DataFrame(x_pca)\n",
    "print(\"Before PCA, X dataframe shape = \",X.shape,\"\\nAfter PCA, x_pca dataframe shape = \",x_pca.shape)\n",
    "colnames = ['PC1','PC2','PC3','PC4','PC5','PC6','PC7','PC8','PC9','PC10','PC11','diagnosis']\n",
    "\n",
    "#target data\n",
    "diag = df.iloc[:,1:2]\n",
    "\n",
    "#combine PCA and target data\n",
    "Xy = pd.DataFrame(np.hstack([x_pca,diag.values]),columns=colnames)\n",
    "X=(Xy.iloc[:,0:11]).values\n",
    "X_train, X_test, y_train, y_test = train_test_split(X, y, test_size=0.25, random_state=0)\n",
    "svc = SVC(C=10,kernel='rbf')\n",
    "svc.fit(X_train, y_train)\n",
    "print(svc.score(X_train,y_train))\n",
    "print(svc.score(X_test,y_test))"
   ]
  }
 ],
 "metadata": {
  "kernelspec": {
   "display_name": "Python 3 (ipykernel)",
   "language": "python",
   "name": "python3"
  },
  "language_info": {
   "codemirror_mode": {
    "name": "ipython",
    "version": 3
   },
   "file_extension": ".py",
   "mimetype": "text/x-python",
   "name": "python",
   "nbconvert_exporter": "python",
   "pygments_lexer": "ipython3",
   "version": "3.10.1"
  }
 },
 "nbformat": 4,
 "nbformat_minor": 5
}
